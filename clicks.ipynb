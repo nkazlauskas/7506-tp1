{
 "cells": [
  {
   "cell_type": "code",
   "execution_count": 1,
   "metadata": {},
   "outputs": [],
   "source": [
    "import numpy as np\n",
    "import pandas as pd\n",
    "import matplotlib.pyplot as plt\n",
    "import seaborn as sns"
   ]
  },
  {
   "cell_type": "markdown",
   "metadata": {},
   "source": [
    "#### Cargamos el csv que tiene los datos correspondientes a los eventos"
   ]
  },
  {
   "cell_type": "code",
   "execution_count": 2,
   "metadata": {},
   "outputs": [],
   "source": [
    "clicks = pd.read_csv('clicks.csv')"
   ]
  },
  {
   "cell_type": "code",
   "execution_count": 3,
   "metadata": {},
   "outputs": [
    {
     "data": {
      "text/html": [
       "<div>\n",
       "<style scoped>\n",
       "    .dataframe tbody tr th:only-of-type {\n",
       "        vertical-align: middle;\n",
       "    }\n",
       "\n",
       "    .dataframe tbody tr th {\n",
       "        vertical-align: top;\n",
       "    }\n",
       "\n",
       "    .dataframe thead th {\n",
       "        text-align: right;\n",
       "    }\n",
       "</style>\n",
       "<table border=\"1\" class=\"dataframe\">\n",
       "  <thead>\n",
       "    <tr style=\"text-align: right;\">\n",
       "      <th></th>\n",
       "      <th>advertiser_id</th>\n",
       "      <th>action_id</th>\n",
       "      <th>source_id</th>\n",
       "      <th>created</th>\n",
       "      <th>country_code</th>\n",
       "      <th>latitude</th>\n",
       "      <th>longitude</th>\n",
       "      <th>wifi_connection</th>\n",
       "      <th>carrier_id</th>\n",
       "      <th>trans_id</th>\n",
       "      <th>os_minor</th>\n",
       "      <th>agent_device</th>\n",
       "      <th>os_major</th>\n",
       "      <th>specs_brand</th>\n",
       "      <th>brand</th>\n",
       "      <th>timeToClick</th>\n",
       "      <th>touchX</th>\n",
       "      <th>touchY</th>\n",
       "      <th>ref_type</th>\n",
       "      <th>ref_hash</th>\n",
       "    </tr>\n",
       "  </thead>\n",
       "  <tbody>\n",
       "    <tr>\n",
       "      <th>0</th>\n",
       "      <td>2</td>\n",
       "      <td>NaN</td>\n",
       "      <td>4</td>\n",
       "      <td>2019-03-06T22:42:12.755Z</td>\n",
       "      <td>6333597102633388268</td>\n",
       "      <td>1.205689</td>\n",
       "      <td>1.070234</td>\n",
       "      <td>False</td>\n",
       "      <td>1.0</td>\n",
       "      <td>iGgClCM9exiHF4K31g94XmvHEBSLKIY</td>\n",
       "      <td>6.768137e+18</td>\n",
       "      <td>NaN</td>\n",
       "      <td>3.072849e+18</td>\n",
       "      <td>2733035977666442898</td>\n",
       "      <td>NaN</td>\n",
       "      <td>1.563</td>\n",
       "      <td>0.905</td>\n",
       "      <td>0.078</td>\n",
       "      <td>1891515180541284343</td>\n",
       "      <td>1904083516767779093</td>\n",
       "    </tr>\n",
       "    <tr>\n",
       "      <th>1</th>\n",
       "      <td>0</td>\n",
       "      <td>NaN</td>\n",
       "      <td>0</td>\n",
       "      <td>2019-03-08T10:24:30.641Z</td>\n",
       "      <td>6333597102633388268</td>\n",
       "      <td>1.218924</td>\n",
       "      <td>1.071209</td>\n",
       "      <td>False</td>\n",
       "      <td>4.0</td>\n",
       "      <td>MMHTOJ6qKAOeIH_Eywh1KIcCaxtO9oM</td>\n",
       "      <td>3.025219e+18</td>\n",
       "      <td>NaN</td>\n",
       "      <td>1.774085e+18</td>\n",
       "      <td>392184377613098015</td>\n",
       "      <td>NaN</td>\n",
       "      <td>NaN</td>\n",
       "      <td>NaN</td>\n",
       "      <td>NaN</td>\n",
       "      <td>1891515180541284343</td>\n",
       "      <td>3086509764961796666</td>\n",
       "    </tr>\n",
       "    <tr>\n",
       "      <th>2</th>\n",
       "      <td>0</td>\n",
       "      <td>NaN</td>\n",
       "      <td>0</td>\n",
       "      <td>2019-03-08T15:24:16.069Z</td>\n",
       "      <td>6333597102633388268</td>\n",
       "      <td>1.205689</td>\n",
       "      <td>1.070234</td>\n",
       "      <td>False</td>\n",
       "      <td>6.0</td>\n",
       "      <td>vIrEIdf9izUaWdAri6Ezk7T3nHFvNQU</td>\n",
       "      <td>5.975656e+18</td>\n",
       "      <td>NaN</td>\n",
       "      <td>3.072849e+18</td>\n",
       "      <td>392184377613098015</td>\n",
       "      <td>NaN</td>\n",
       "      <td>NaN</td>\n",
       "      <td>0.946</td>\n",
       "      <td>0.473</td>\n",
       "      <td>1891515180541284343</td>\n",
       "      <td>6958163894863846647</td>\n",
       "    </tr>\n",
       "    <tr>\n",
       "      <th>3</th>\n",
       "      <td>2</td>\n",
       "      <td>NaN</td>\n",
       "      <td>3</td>\n",
       "      <td>2019-03-06T03:08:51.543Z</td>\n",
       "      <td>6333597102633388268</td>\n",
       "      <td>1.205689</td>\n",
       "      <td>1.070234</td>\n",
       "      <td>False</td>\n",
       "      <td>45.0</td>\n",
       "      <td>YaKxxEAs2UmZhSpRfiCO9Zpa82B_AKM</td>\n",
       "      <td>6.768137e+18</td>\n",
       "      <td>NaN</td>\n",
       "      <td>3.072849e+18</td>\n",
       "      <td>2733035977666442898</td>\n",
       "      <td>NaN</td>\n",
       "      <td>19.013</td>\n",
       "      <td>0.035</td>\n",
       "      <td>0.431</td>\n",
       "      <td>1891515180541284343</td>\n",
       "      <td>4368617728156436525</td>\n",
       "    </tr>\n",
       "    <tr>\n",
       "      <th>4</th>\n",
       "      <td>2</td>\n",
       "      <td>NaN</td>\n",
       "      <td>3</td>\n",
       "      <td>2019-03-06T03:32:55.570Z</td>\n",
       "      <td>6333597102633388268</td>\n",
       "      <td>1.205689</td>\n",
       "      <td>1.070234</td>\n",
       "      <td>False</td>\n",
       "      <td>45.0</td>\n",
       "      <td>X5XTOcYQovkl6yadYdAD7xioVGU9jiY</td>\n",
       "      <td>6.768137e+18</td>\n",
       "      <td>NaN</td>\n",
       "      <td>3.072849e+18</td>\n",
       "      <td>2733035977666442898</td>\n",
       "      <td>NaN</td>\n",
       "      <td>28.110</td>\n",
       "      <td>0.054</td>\n",
       "      <td>0.423</td>\n",
       "      <td>1891515180541284343</td>\n",
       "      <td>4368617728156436525</td>\n",
       "    </tr>\n",
       "  </tbody>\n",
       "</table>\n",
       "</div>"
      ],
      "text/plain": [
       "   advertiser_id  action_id  source_id                   created  \\\n",
       "0              2        NaN          4  2019-03-06T22:42:12.755Z   \n",
       "1              0        NaN          0  2019-03-08T10:24:30.641Z   \n",
       "2              0        NaN          0  2019-03-08T15:24:16.069Z   \n",
       "3              2        NaN          3  2019-03-06T03:08:51.543Z   \n",
       "4              2        NaN          3  2019-03-06T03:32:55.570Z   \n",
       "\n",
       "          country_code  latitude  longitude  wifi_connection  carrier_id  \\\n",
       "0  6333597102633388268  1.205689   1.070234            False         1.0   \n",
       "1  6333597102633388268  1.218924   1.071209            False         4.0   \n",
       "2  6333597102633388268  1.205689   1.070234            False         6.0   \n",
       "3  6333597102633388268  1.205689   1.070234            False        45.0   \n",
       "4  6333597102633388268  1.205689   1.070234            False        45.0   \n",
       "\n",
       "                          trans_id      os_minor  agent_device      os_major  \\\n",
       "0  iGgClCM9exiHF4K31g94XmvHEBSLKIY  6.768137e+18           NaN  3.072849e+18   \n",
       "1  MMHTOJ6qKAOeIH_Eywh1KIcCaxtO9oM  3.025219e+18           NaN  1.774085e+18   \n",
       "2  vIrEIdf9izUaWdAri6Ezk7T3nHFvNQU  5.975656e+18           NaN  3.072849e+18   \n",
       "3  YaKxxEAs2UmZhSpRfiCO9Zpa82B_AKM  6.768137e+18           NaN  3.072849e+18   \n",
       "4  X5XTOcYQovkl6yadYdAD7xioVGU9jiY  6.768137e+18           NaN  3.072849e+18   \n",
       "\n",
       "           specs_brand  brand  timeToClick  touchX  touchY  \\\n",
       "0  2733035977666442898    NaN        1.563   0.905   0.078   \n",
       "1   392184377613098015    NaN          NaN     NaN     NaN   \n",
       "2   392184377613098015    NaN          NaN   0.946   0.473   \n",
       "3  2733035977666442898    NaN       19.013   0.035   0.431   \n",
       "4  2733035977666442898    NaN       28.110   0.054   0.423   \n",
       "\n",
       "              ref_type             ref_hash  \n",
       "0  1891515180541284343  1904083516767779093  \n",
       "1  1891515180541284343  3086509764961796666  \n",
       "2  1891515180541284343  6958163894863846647  \n",
       "3  1891515180541284343  4368617728156436525  \n",
       "4  1891515180541284343  4368617728156436525  "
      ]
     },
     "execution_count": 3,
     "metadata": {},
     "output_type": "execute_result"
    }
   ],
   "source": [
    "clicks.head()"
   ]
  },
  {
   "cell_type": "markdown",
   "metadata": {},
   "source": [
    "### Verificamos si hay valores nulos en las columnas"
   ]
  },
  {
   "cell_type": "code",
   "execution_count": 4,
   "metadata": {},
   "outputs": [
    {
     "data": {
      "text/plain": [
       "advertiser_id      False\n",
       "action_id           True\n",
       "source_id          False\n",
       "created            False\n",
       "country_code       False\n",
       "latitude           False\n",
       "longitude          False\n",
       "wifi_connection    False\n",
       "carrier_id          True\n",
       "trans_id           False\n",
       "os_minor            True\n",
       "agent_device        True\n",
       "os_major            True\n",
       "specs_brand        False\n",
       "brand               True\n",
       "timeToClick         True\n",
       "touchX              True\n",
       "touchY              True\n",
       "ref_type           False\n",
       "ref_hash           False\n",
       "dtype: bool"
      ]
     },
     "execution_count": 4,
     "metadata": {},
     "output_type": "execute_result"
    }
   ],
   "source": [
    "clicks.isnull().any()"
   ]
  },
  {
   "cell_type": "markdown",
   "metadata": {},
   "source": [
    "### Validamos si hay valores nulos en las columnas de nuestro interés"
   ]
  },
  {
   "cell_type": "code",
   "execution_count": 5,
   "metadata": {},
   "outputs": [
    {
     "data": {
      "text/plain": [
       "False"
      ]
     },
     "execution_count": 5,
     "metadata": {},
     "output_type": "execute_result"
    }
   ],
   "source": [
    "clicks['created'].hasnans"
   ]
  },
  {
   "cell_type": "code",
   "execution_count": 6,
   "metadata": {},
   "outputs": [
    {
     "data": {
      "text/plain": [
       "False"
      ]
     },
     "execution_count": 6,
     "metadata": {},
     "output_type": "execute_result"
    }
   ],
   "source": [
    "clicks['advertiser_id'].hasnans"
   ]
  },
  {
   "cell_type": "markdown",
   "metadata": {},
   "source": [
    "#### Cambiamos el tipo de dato de la columna 'date' a datetime, y creamos dos nuevas columnas que contengan la fecha y el horario de los eventos por separado"
   ]
  },
  {
   "cell_type": "code",
   "execution_count": 7,
   "metadata": {},
   "outputs": [],
   "source": [
    "clicks['created'] = pd.to_datetime(clicks['created'])\n",
    "clicks['just_date'] = pd.to_datetime(pd.to_datetime(clicks['created']).dt.date)\n",
    "clicks['just_time'] = pd.to_datetime(clicks['created']).dt.time"
   ]
  },
  {
   "cell_type": "markdown",
   "metadata": {},
   "source": [
    "#### Con un histograma podemos analizar la distribución de los eventos a lo largo del tiempo"
   ]
  },
  {
   "cell_type": "code",
   "execution_count": 8,
   "metadata": {},
   "outputs": [
    {
     "data": {
      "text/plain": [
       "just_date\n",
       "2019-03-05      31\n",
       "2019-03-06      14\n",
       "2019-03-07    2989\n",
       "2019-03-08    2839\n",
       "2019-03-09    3283\n",
       "2019-03-10    3966\n",
       "2019-03-11    4557\n",
       "2019-03-12    5204\n",
       "2019-03-13    3468\n",
       "dtype: int64"
      ]
     },
     "execution_count": 8,
     "metadata": {},
     "output_type": "execute_result"
    }
   ],
   "source": [
    "clicks.groupby('just_date').size()"
   ]
  },
  {
   "cell_type": "code",
   "execution_count": 9,
   "metadata": {},
   "outputs": [
    {
     "data": {
      "image/png": "[encoded data removed]",
      "text/plain": [
       "<Figure size 1440x432 with 1 Axes>"
      ]
     },
     "metadata": {
      "needs_background": "light"
     },
     "output_type": "display_data"
    }
   ],
   "source": [
    "plt.figure(figsize=(20, 6))\n",
    "plt.hist(clicks['created'], bins = 200, color = '#000000', alpha = 0.8)\n",
    "\n",
    "plt.tick_params(top = False, bottom = True, left = False, right = False, labelleft = True, labelbottom = True)\n",
    "\n",
    "for spine in plt.gca().spines.values():\n",
    "    spine.set_visible(False)\n",
    "\n",
    "plt.xticks(ticks = [pd.to_datetime('2019-03-05 12:00:00'), pd.to_datetime('2019-03-06 12:00:00'), pd.to_datetime('2019-03-07 12:00:00'), \n",
    "                    pd.to_datetime('2019-03-08 12:00:00'), pd.to_datetime('2019-03-09 12:00:00'), pd.to_datetime('2019-03-10 12:00:00'),\n",
    "                   pd.to_datetime('2019-03-11 12:00:00'), pd.to_datetime('2019-03-12 12:00:00'), pd.to_datetime('2019-03-13 12:00:00')],\n",
    "           labels = ['2019-03-05', '2019-03-06', '2019-03-07', '2019-03-08','2019-03-09', '2019-03-10', '2019-03-11', '2019-03-12', '2019-03-13'], \n",
    "           fontsize = 'large')\n",
    "plt.ylabel('Cantidad de clicks', labelpad = 20, fontsize = 'x-large')\n",
    "plt.title('Cantidad de clicks a lo largo del tiempo', fontsize = 'xx-large', pad = 20)\n",
    "\n",
    "\n",
    "plt.show()"
   ]
  },
  {
   "cell_type": "markdown",
   "metadata": {},
   "source": [
    "### Analizamos la cantidad de eventos por día"
   ]
  },
  {
   "cell_type": "code",
   "execution_count": 10,
   "metadata": {},
   "outputs": [
    {
     "data": {
      "image/png": "[encoded data removed]",
      "text/plain": [
       "<Figure size 1008x432 with 1 Axes>"
      ]
     },
     "metadata": {
      "needs_background": "light"
     },
     "output_type": "display_data"
    }
   ],
   "source": [
    "plt.figure(figsize=(14, 6))\n",
    "clicks['just_date'].value_counts().plot(color = '#000000', alpha = 0.8)\n",
    "\n",
    "plt.xticks(rotation = 0, ticks = [pd.to_datetime('2019-03-05 12:00:00'), pd.to_datetime('2019-03-06 12:00:00'), pd.to_datetime('2019-03-07 12:00:00'), \n",
    "                                  pd.to_datetime('2019-03-08 12:00:00'), pd.to_datetime('2019-03-09 12:00:00'), pd.to_datetime('2019-03-10 12:00:00'),\n",
    "                   pd.to_datetime('2019-03-11 12:00:00'), pd.to_datetime('2019-03-12 12:00:00'), pd.to_datetime('2019-03-13 12:00:00')],\n",
    "           labels = ['2019-03-05', '2019-03-06', '2019-03-07', '2019-03-08','2019-03-09', '2019-03-10', '2019-03-11', '2019-03-12', '2019-03-13'], \n",
    "           fontsize = 'medium')\n",
    "plt.tick_params(top = False, bottom = False, left = False, right = False, labelleft = True, labelbottom = True)\n",
    "plt.ylabel('Cantidad de clicks', labelpad = 20, fontsize = 'large')\n",
    "plt.title('Cantidad de clicks por día', fontsize = 'xx-large')\n",
    "plt.ylim(-400, 6000)\n",
    "plt.show();"
   ]
  },
  {
   "cell_type": "markdown",
   "metadata": {},
   "source": [
    "### Analizamos la cantidad de eventos por hora"
   ]
  },
  {
   "cell_type": "code",
   "execution_count": 11,
   "metadata": {},
   "outputs": [
    {
     "data": {
      "image/png": "[encoded data removed]",
      "text/plain": [
       "<Figure size 1152x432 with 1 Axes>"
      ]
     },
     "metadata": {
      "needs_background": "light"
     },
     "output_type": "display_data"
    }
   ],
   "source": [
    "fig = plt.figure(figsize=(16, 6))\n",
    "clicks['created'].groupby(clicks['created'].dt.hour).count().plot(kind = 'line', color = '#008751', alpha = 0.8)\n",
    "\n",
    "plt.xticks(rotation = 0, ticks = [0, 4, 8, 12, 16, 20, 24], labels = ['00:00', '04:00', '08:00', '12:00', '16:00', '20:00', '24:00'], fontsize = 'medium')\n",
    "plt.tick_params(top = False, bottom = False, left = False, right = False, labelleft = True, labelbottom = True)\n",
    "plt.ylabel('Cantidad de clicks', labelpad = 20, fontsize = 'large')\n",
    "plt.title('Cantidad de clicks por hora', fontsize = 'xx-large')\n",
    "plt.xlabel('')\n",
    "plt.show();"
   ]
  },
  {
   "cell_type": "markdown",
   "metadata": {},
   "source": [
    "### Analizamos la distribución de los advertiser ID"
   ]
  },
  {
   "cell_type": "code",
   "execution_count": 35,
   "metadata": {},
   "outputs": [
    {
     "data": {
      "text/plain": [
       "3    26263\n",
       "0       70\n",
       "2       12\n",
       "7        2\n",
       "1        2\n",
       "8        1\n",
       "5        1\n",
       "Name: advertiser_id, dtype: int64"
      ]
     },
     "execution_count": 35,
     "metadata": {},
     "output_type": "execute_result"
    }
   ],
   "source": [
    "clicks.advertiser_id.value_counts()"
   ]
  },
  {
   "cell_type": "markdown",
   "metadata": {},
   "source": [
    "### Y establecemos su porcentaje sobre el total"
   ]
  },
  {
   "cell_type": "code",
   "execution_count": 38,
   "metadata": {},
   "outputs": [
    {
     "data": {
      "text/plain": [
       "99.66604682934233"
      ]
     },
     "execution_count": 38,
     "metadata": {},
     "output_type": "execute_result"
    }
   ],
   "source": [
    "#Porcentaje del mayor advertiser_id\n",
    "biggest_advertiser_id = clicks.advertiser_id.value_counts().values.sum()/clicks.advertiser_id.value_counts().count() *100 \n",
    "biggest_advertiser_id_porcentage = clicks.advertiser_id.value_counts().max()/clicks.advertiser_id.value_counts().values.sum()*100\n",
    "biggest_advertiser_id_porcentage\n"
   ]
  },
  {
   "cell_type": "code",
   "execution_count": 49,
   "metadata": {},
   "outputs": [],
   "source": [
    "### Evidenciamos la concentración homogenea de casi la totalidad de los avisos en un único"
   ]
  },
  {
   "cell_type": "code",
   "execution_count": 14,
   "metadata": {},
   "outputs": [
    {
     "data": {
      "text/plain": [
       "Text(0.5, 1.0, 'Cantidad de eventos para cada tipo de anunciante')"
      ]
     },
     "execution_count": 14,
     "metadata": {},
     "output_type": "execute_result"
    },
    {
     "data": {
      "image/png": "[encoded data removed]",
      "text/plain": [
       "<Figure size 1440x720 with 1 Axes>"
      ]
     },
     "metadata": {
      "needs_background": "light"
     },
     "output_type": "display_data"
    }
   ],
   "source": [
    "advertiser_id = clicks.advertiser_id.value_counts()\n",
    "advertiser_id_plot = advertiser_id.plot.bar(figsize=(20,10))\n",
    "advertiser_id_plot.set_xlabel('Cantidad de clicks', fontsize = 18)\n",
    "advertiser_id_plot.set_ylabel('Id del anunciante', fontsize = 18)\n",
    "advertiser_id_plot.set_title('Cantidad de eventos para cada tipo de anunciante', fontsize = 'xx-large')"
   ]
  },
  {
   "cell_type": "code",
   "execution_count": 15,
   "metadata": {},
   "outputs": [
    {
     "data": {
      "text/plain": [
       "Int64Index([3, 0, 2, 7, 1, 8, 5], dtype='int64')"
      ]
     },
     "execution_count": 15,
     "metadata": {},
     "output_type": "execute_result"
    }
   ],
   "source": [
    "clicks.advertiser_id.value_counts().index"
   ]
  },
  {
   "cell_type": "markdown",
   "metadata": {},
   "source": [
    "### Indagamos en el Source Id"
   ]
  },
  {
   "cell_type": "code",
   "execution_count": 17,
   "metadata": {},
   "outputs": [
    {
     "data": {
      "text/plain": [
       "0     17009\n",
       "1      4298\n",
       "6      3371\n",
       "5      1628\n",
       "2        27\n",
       "3         9\n",
       "10        3\n",
       "7         2\n",
       "4         2\n",
       "9         1\n",
       "8         1\n",
       "Name: source_id, dtype: int64"
      ]
     },
     "execution_count": 17,
     "metadata": {},
     "output_type": "execute_result"
    }
   ],
   "source": [
    "clicks.source_id.value_counts()    "
   ]
  },
  {
   "cell_type": "markdown",
   "metadata": {},
   "source": [
    "### Establecemos su distribución"
   ]
  },
  {
   "cell_type": "code",
   "execution_count": 19,
   "metadata": {},
   "outputs": [
    {
     "data": {
      "text/plain": [
       "Text(0.5, 1.0, 'Cantidad de eventos para cada fuente de la que se originó el click')"
      ]
     },
     "execution_count": 19,
     "metadata": {},
     "output_type": "execute_result"
    },
    {
     "data": {
      "image/png": "[encoded data removed]",
      "text/plain": [
       "<Figure size 1440x720 with 1 Axes>"
      ]
     },
     "metadata": {
      "needs_background": "light"
     },
     "output_type": "display_data"
    }
   ],
   "source": [
    "source_id = clicks.source_id.value_counts()\n",
    "source_id_plot = source_id.plot.bar(figsize=(20,10))\n",
    "source_id_plot.set_xlabel('Id de la fuente', fontsize = 18)\n",
    "source_id_plot.set_ylabel('Cantidad de clicks', fontsize = 18)\n",
    "source_id_plot.set_title('Cantidad de eventos para cada fuente de la que se originó el click', fontsize = 'xx-large')"
   ]
  },
  {
   "cell_type": "code",
   "execution_count": 20,
   "metadata": {},
   "outputs": [
    {
     "data": {
      "text/plain": [
       "0     17009\n",
       "1      4298\n",
       "6      3371\n",
       "5      1628\n",
       "2        27\n",
       "3         9\n",
       "10        3\n",
       "4         2\n",
       "7         2\n",
       "8         1\n",
       "Name: source_id, dtype: int64"
      ]
     },
     "execution_count": 20,
     "metadata": {},
     "output_type": "execute_result"
    }
   ],
   "source": [
    "most_frequent_source_id = clicks['source_id'].value_counts().sort_values(ascending = False).head(10)\n",
    "most_frequent_source_id"
   ]
  },
  {
   "cell_type": "code",
   "execution_count": 21,
   "metadata": {},
   "outputs": [],
   "source": [
    "#fig, ((ax1, ax2, ax3, ax4, ax5), (ax6, ax7, ax8, ax9, ax10)) = plt.subplots(2, 5, figsize = (24, 12), sharey = True)\n",
    "#plt.subplots_adjust(hspace = 0.4)\n",
    "\n",
    "#colors = sns.color_palette('Spectral', 10)\n",
    "#_ids = sorted(most_frequent_source_id)\n",
    "\n",
    "#for source_id, ax, c in zip(_ids, [ax1, ax2, ax3, ax4, ax5, ax6, ax7, ax8, ax9, ax10], colors):\n",
    " #   ax.set_title('Fuente: {}'.format(source_id), fontsize = 'large')\n",
    "    \n",
    "  #  this_source = clicks[clicks['source_id'] == source_id]\n",
    "   # ax.hist(this_source['just_date'], bins=len(set(this_source['just_date'])), color = c, edgecolor = 'black')\n",
    "#    ax.tick_params(axis = 'x', labelrotation = 45)\n",
    "    \n",
    "#ax1.set_ylabel('Cantidad de fuentes', fontsize = 'large');\n",
    "#ax6.set_ylabel('Cantidad de fuentes', fontsize = 'large');\n",
    "#fig.suptitle('Distribución de los distintos tipos de fuentes a lo largo del tiempo', fontsize = 'xx-large');"
   ]
  },
  {
   "cell_type": "markdown",
   "metadata": {},
   "source": [
    "### Exploramos el rango temporal del tiempo de los clicks"
   ]
  },
  {
   "cell_type": "code",
   "execution_count": 22,
   "metadata": {},
   "outputs": [
    {
     "data": {
      "text/plain": [
       "0.017"
      ]
     },
     "execution_count": 22,
     "metadata": {},
     "output_type": "execute_result"
    }
   ],
   "source": [
    "clicks.timeToClick.min()"
   ]
  },
  {
   "cell_type": "code",
   "execution_count": 23,
   "metadata": {},
   "outputs": [
    {
     "data": {
      "text/plain": [
       "17616.188000000002"
      ]
     },
     "execution_count": 23,
     "metadata": {},
     "output_type": "execute_result"
    }
   ],
   "source": [
    "clicks.timeToClick.max()"
   ]
  },
  {
   "cell_type": "code",
   "execution_count": 24,
   "metadata": {},
   "outputs": [
    {
     "data": {
      "text/plain": [
       "0.261      11\n",
       "0.267       9\n",
       "0.210       9\n",
       "0.338       9\n",
       "2.221       8\n",
       "0.232       8\n",
       "2.043       8\n",
       "0.252       8\n",
       "2.041       8\n",
       "0.194       7\n",
       "0.340       7\n",
       "2.252       7\n",
       "4.179       7\n",
       "1.917       7\n",
       "1.676       7\n",
       "2.892       7\n",
       "0.187       7\n",
       "0.251       7\n",
       "1.717       7\n",
       "0.226       6\n",
       "0.352       6\n",
       "1.792       6\n",
       "0.384       6\n",
       "0.308       6\n",
       "0.271       6\n",
       "0.219       6\n",
       "0.482       6\n",
       "1.664       6\n",
       "0.272       6\n",
       "1.839       6\n",
       "           ..\n",
       "147.252     1\n",
       "482.467     1\n",
       "6.415       1\n",
       "649.753     1\n",
       "51.070      1\n",
       "11.795      1\n",
       "59.467      1\n",
       "36.624      1\n",
       "15.268      1\n",
       "13.609      1\n",
       "2.256       1\n",
       "183.282     1\n",
       "1.975       1\n",
       "13.924      1\n",
       "437.556     1\n",
       "37.382      1\n",
       "267.876     1\n",
       "13.370      1\n",
       "221.478     1\n",
       "37.270      1\n",
       "77.196      1\n",
       "55.258      1\n",
       "375.753     1\n",
       "62.718      1\n",
       "5.702       1\n",
       "900.099     1\n",
       "443.978     1\n",
       "330.022     1\n",
       "12.388      1\n",
       "11.000      1\n",
       "Name: timeToClick, Length: 17294, dtype: int64"
      ]
     },
     "execution_count": 24,
     "metadata": {},
     "output_type": "execute_result"
    }
   ],
   "source": [
    "clicks.timeToClick.value_counts()"
   ]
  },
  {
   "cell_type": "code",
   "execution_count": 174,
   "metadata": {},
   "outputs": [
    {
     "data": {
      "text/plain": [
       "(array([6090., 2415., 1081.,  675.]),\n",
       " array([ 0, 10, 20, 30, 40]),\n",
       " <a list of 4 Patch objects>)"
      ]
     },
     "execution_count": 174,
     "metadata": {},
     "output_type": "execute_result"
    },
    {
     "data": {
      "image/png": "[encoded data removed]",
      "text/plain": [
       "<Figure size 432x288 with 1 Axes>"
      ]
     },
     "metadata": {
      "needs_background": "light"
     },
     "output_type": "display_data"
    }
   ],
   "source": [
    "timeToClick_bins = [0, 10, 20, 30, 40]\n",
    "plt.hist(clicks.timeToClick.value_counts().index.tolist(), timeToClick_bins, histtype='bar', rwidth=0.8)"
   ]
  },
  {
   "cell_type": "code",
   "execution_count": 143,
   "metadata": {},
   "outputs": [
    {
     "data": {
      "text/plain": [
       "0.261    11\n",
       "0.267     9\n",
       "0.210     9\n",
       "0.338     9\n",
       "2.221     8\n",
       "0.232     8\n",
       "2.043     8\n",
       "0.252     8\n",
       "2.041     8\n",
       "1.917     7\n",
       "Name: timeToClick, dtype: int64"
      ]
     },
     "execution_count": 143,
     "metadata": {},
     "output_type": "execute_result"
    }
   ],
   "source": [
    "clicks.timeToClick.value_counts().sort_values(ascending = False).head(10)"
   ]
  },
  {
   "cell_type": "code",
   "execution_count": 48,
   "metadata": {},
   "outputs": [
    {
     "data": {
      "image/png": "[encoded data removed]",
      "text/plain": [
       "<Figure size 864x432 with 1 Axes>"
      ]
     },
     "metadata": {
      "needs_background": "light"
     },
     "output_type": "display_data"
    }
   ],
   "source": [
    "plt.figure(figsize=(12, 6))\n",
    "timeToClick_bins =  [0, 2500, 5000, 7500, 10000, 12500, 15000, 17500]\n",
    "plt.hist(clicks.timeToClick.value_counts().index.tolist(), timeToClick_bins)\n",
    "plt.show()"
   ]
  },
  {
   "cell_type": "code",
   "execution_count": null,
   "metadata": {},
   "outputs": [],
   "source": []
  }
 ],
 "metadata": {
  "kernelspec": {
   "display_name": "Python 3",
   "language": "python",
   "name": "python3"
  },
  "language_info": {
   "codemirror_mode": {
    "name": "ipython",
    "version": 3
   },
   "file_extension": ".py",
   "mimetype": "text/x-python",
   "name": "python",
   "nbconvert_exporter": "python",
   "pygments_lexer": "ipython3",
   "version": "3.6.7"
  }
 },
 "nbformat": 4,
 "nbformat_minor": 2
}
