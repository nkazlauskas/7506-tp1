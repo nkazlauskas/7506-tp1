{
 "cells": [
  {
   "cell_type": "code",
   "execution_count": 1,
   "metadata": {},
   "outputs": [],
   "source": [
    "import matplotlib.pyplot as plt\n",
    "import pandas as pd\n",
    "import seaborn as sns"
   ]
  },
  {
   "cell_type": "markdown",
   "metadata": {},
   "source": [
    "### Importamos los datos"
   ]
  },
  {
   "cell_type": "code",
   "execution_count": 2,
   "metadata": {},
   "outputs": [],
   "source": [
    "clicks = pd.read_csv('clicks.csv.gzip', compression='gzip')"
   ]
  },
  {
   "cell_type": "markdown",
   "metadata": {},
   "source": [
    "### Muestra de datos"
   ]
  },
  {
   "cell_type": "code",
   "execution_count": 3,
   "metadata": {},
   "outputs": [
    {
     "data": {
      "text/html": [
       "<div>\n",
       "<style scoped>\n",
       "    .dataframe tbody tr th:only-of-type {\n",
       "        vertical-align: middle;\n",
       "    }\n",
       "\n",
       "    .dataframe tbody tr th {\n",
       "        vertical-align: top;\n",
       "    }\n",
       "\n",
       "    .dataframe thead th {\n",
       "        text-align: right;\n",
       "    }\n",
       "</style>\n",
       "<table border=\"1\" class=\"dataframe\">\n",
       "  <thead>\n",
       "    <tr style=\"text-align: right;\">\n",
       "      <th></th>\n",
       "      <th>advertiser_id</th>\n",
       "      <th>action_id</th>\n",
       "      <th>source_id</th>\n",
       "      <th>created</th>\n",
       "      <th>country_code</th>\n",
       "      <th>latitude</th>\n",
       "      <th>longitude</th>\n",
       "      <th>wifi_connection</th>\n",
       "      <th>carrier_id</th>\n",
       "      <th>trans_id</th>\n",
       "      <th>os_minor</th>\n",
       "      <th>agent_device</th>\n",
       "      <th>os_major</th>\n",
       "      <th>specs_brand</th>\n",
       "      <th>brand</th>\n",
       "      <th>timeToClick</th>\n",
       "      <th>touchX</th>\n",
       "      <th>touchY</th>\n",
       "      <th>ref_type</th>\n",
       "      <th>ref_hash</th>\n",
       "    </tr>\n",
       "  </thead>\n",
       "  <tbody>\n",
       "    <tr>\n",
       "      <th>0</th>\n",
       "      <td>2</td>\n",
       "      <td>NaN</td>\n",
       "      <td>4</td>\n",
       "      <td>2019-03-06T22:42:12.755Z</td>\n",
       "      <td>6333597102633388268</td>\n",
       "      <td>1.205689</td>\n",
       "      <td>1.070234</td>\n",
       "      <td>False</td>\n",
       "      <td>1.0</td>\n",
       "      <td>iGgClCM9exiHF4K31g94XmvHEBSLKIY</td>\n",
       "      <td>6.768137e+18</td>\n",
       "      <td>NaN</td>\n",
       "      <td>3.072849e+18</td>\n",
       "      <td>2733035977666442898</td>\n",
       "      <td>NaN</td>\n",
       "      <td>1.563</td>\n",
       "      <td>0.905</td>\n",
       "      <td>0.078</td>\n",
       "      <td>1891515180541284343</td>\n",
       "      <td>1904083516767779093</td>\n",
       "    </tr>\n",
       "    <tr>\n",
       "      <th>1</th>\n",
       "      <td>0</td>\n",
       "      <td>NaN</td>\n",
       "      <td>0</td>\n",
       "      <td>2019-03-08T10:24:30.641Z</td>\n",
       "      <td>6333597102633388268</td>\n",
       "      <td>1.218924</td>\n",
       "      <td>1.071209</td>\n",
       "      <td>False</td>\n",
       "      <td>4.0</td>\n",
       "      <td>MMHTOJ6qKAOeIH_Eywh1KIcCaxtO9oM</td>\n",
       "      <td>3.025219e+18</td>\n",
       "      <td>NaN</td>\n",
       "      <td>1.774085e+18</td>\n",
       "      <td>392184377613098015</td>\n",
       "      <td>NaN</td>\n",
       "      <td>NaN</td>\n",
       "      <td>NaN</td>\n",
       "      <td>NaN</td>\n",
       "      <td>1891515180541284343</td>\n",
       "      <td>3086509764961796666</td>\n",
       "    </tr>\n",
       "    <tr>\n",
       "      <th>2</th>\n",
       "      <td>0</td>\n",
       "      <td>NaN</td>\n",
       "      <td>0</td>\n",
       "      <td>2019-03-08T15:24:16.069Z</td>\n",
       "      <td>6333597102633388268</td>\n",
       "      <td>1.205689</td>\n",
       "      <td>1.070234</td>\n",
       "      <td>False</td>\n",
       "      <td>6.0</td>\n",
       "      <td>vIrEIdf9izUaWdAri6Ezk7T3nHFvNQU</td>\n",
       "      <td>5.975656e+18</td>\n",
       "      <td>NaN</td>\n",
       "      <td>3.072849e+18</td>\n",
       "      <td>392184377613098015</td>\n",
       "      <td>NaN</td>\n",
       "      <td>NaN</td>\n",
       "      <td>0.946</td>\n",
       "      <td>0.473</td>\n",
       "      <td>1891515180541284343</td>\n",
       "      <td>6958163894863846647</td>\n",
       "    </tr>\n",
       "    <tr>\n",
       "      <th>3</th>\n",
       "      <td>2</td>\n",
       "      <td>NaN</td>\n",
       "      <td>3</td>\n",
       "      <td>2019-03-06T03:08:51.543Z</td>\n",
       "      <td>6333597102633388268</td>\n",
       "      <td>1.205689</td>\n",
       "      <td>1.070234</td>\n",
       "      <td>False</td>\n",
       "      <td>45.0</td>\n",
       "      <td>YaKxxEAs2UmZhSpRfiCO9Zpa82B_AKM</td>\n",
       "      <td>6.768137e+18</td>\n",
       "      <td>NaN</td>\n",
       "      <td>3.072849e+18</td>\n",
       "      <td>2733035977666442898</td>\n",
       "      <td>NaN</td>\n",
       "      <td>19.013</td>\n",
       "      <td>0.035</td>\n",
       "      <td>0.431</td>\n",
       "      <td>1891515180541284343</td>\n",
       "      <td>4368617728156436525</td>\n",
       "    </tr>\n",
       "    <tr>\n",
       "      <th>4</th>\n",
       "      <td>2</td>\n",
       "      <td>NaN</td>\n",
       "      <td>3</td>\n",
       "      <td>2019-03-06T03:32:55.570Z</td>\n",
       "      <td>6333597102633388268</td>\n",
       "      <td>1.205689</td>\n",
       "      <td>1.070234</td>\n",
       "      <td>False</td>\n",
       "      <td>45.0</td>\n",
       "      <td>X5XTOcYQovkl6yadYdAD7xioVGU9jiY</td>\n",
       "      <td>6.768137e+18</td>\n",
       "      <td>NaN</td>\n",
       "      <td>3.072849e+18</td>\n",
       "      <td>2733035977666442898</td>\n",
       "      <td>NaN</td>\n",
       "      <td>28.110</td>\n",
       "      <td>0.054</td>\n",
       "      <td>0.423</td>\n",
       "      <td>1891515180541284343</td>\n",
       "      <td>4368617728156436525</td>\n",
       "    </tr>\n",
       "  </tbody>\n",
       "</table>\n",
       "</div>"
      ],
      "text/plain": [
       "   advertiser_id  action_id  source_id                   created  \\\n",
       "0              2        NaN          4  2019-03-06T22:42:12.755Z   \n",
       "1              0        NaN          0  2019-03-08T10:24:30.641Z   \n",
       "2              0        NaN          0  2019-03-08T15:24:16.069Z   \n",
       "3              2        NaN          3  2019-03-06T03:08:51.543Z   \n",
       "4              2        NaN          3  2019-03-06T03:32:55.570Z   \n",
       "\n",
       "          country_code  latitude  longitude  wifi_connection  carrier_id  \\\n",
       "0  6333597102633388268  1.205689   1.070234            False         1.0   \n",
       "1  6333597102633388268  1.218924   1.071209            False         4.0   \n",
       "2  6333597102633388268  1.205689   1.070234            False         6.0   \n",
       "3  6333597102633388268  1.205689   1.070234            False        45.0   \n",
       "4  6333597102633388268  1.205689   1.070234            False        45.0   \n",
       "\n",
       "                          trans_id      os_minor  agent_device      os_major  \\\n",
       "0  iGgClCM9exiHF4K31g94XmvHEBSLKIY  6.768137e+18           NaN  3.072849e+18   \n",
       "1  MMHTOJ6qKAOeIH_Eywh1KIcCaxtO9oM  3.025219e+18           NaN  1.774085e+18   \n",
       "2  vIrEIdf9izUaWdAri6Ezk7T3nHFvNQU  5.975656e+18           NaN  3.072849e+18   \n",
       "3  YaKxxEAs2UmZhSpRfiCO9Zpa82B_AKM  6.768137e+18           NaN  3.072849e+18   \n",
       "4  X5XTOcYQovkl6yadYdAD7xioVGU9jiY  6.768137e+18           NaN  3.072849e+18   \n",
       "\n",
       "           specs_brand  brand  timeToClick  touchX  touchY  \\\n",
       "0  2733035977666442898    NaN        1.563   0.905   0.078   \n",
       "1   392184377613098015    NaN          NaN     NaN     NaN   \n",
       "2   392184377613098015    NaN          NaN   0.946   0.473   \n",
       "3  2733035977666442898    NaN       19.013   0.035   0.431   \n",
       "4  2733035977666442898    NaN       28.110   0.054   0.423   \n",
       "\n",
       "              ref_type             ref_hash  \n",
       "0  1891515180541284343  1904083516767779093  \n",
       "1  1891515180541284343  3086509764961796666  \n",
       "2  1891515180541284343  6958163894863846647  \n",
       "3  1891515180541284343  4368617728156436525  \n",
       "4  1891515180541284343  4368617728156436525  "
      ]
     },
     "execution_count": 3,
     "metadata": {},
     "output_type": "execute_result"
    }
   ],
   "source": [
    "clicks.head()"
   ]
  },
  {
   "cell_type": "markdown",
   "metadata": {},
   "source": [
    "### Columnas con valores nulos"
   ]
  },
  {
   "cell_type": "code",
   "execution_count": 4,
   "metadata": {},
   "outputs": [
    {
     "data": {
      "text/plain": [
       "advertiser_id      False\n",
       "action_id           True\n",
       "source_id          False\n",
       "created            False\n",
       "country_code       False\n",
       "latitude           False\n",
       "longitude          False\n",
       "wifi_connection    False\n",
       "carrier_id          True\n",
       "trans_id           False\n",
       "os_minor            True\n",
       "agent_device        True\n",
       "os_major            True\n",
       "specs_brand        False\n",
       "brand               True\n",
       "timeToClick         True\n",
       "touchX              True\n",
       "touchY              True\n",
       "ref_type           False\n",
       "ref_hash           False\n",
       "dtype: bool"
      ]
     },
     "execution_count": 4,
     "metadata": {},
     "output_type": "execute_result"
    }
   ],
   "source": [
    "clicks.isnull().any()"
   ]
  },
  {
   "cell_type": "markdown",
   "metadata": {},
   "source": [
    "### Precisamos obtener info detallada de los clicks por país en función de cada cliente de JAMPP"
   ]
  },
  {
   "cell_type": "markdown",
   "metadata": {},
   "source": [
    "### Verificamos los campos que nos interesan, en función del JSON de descripciones"
   ]
  },
  {
   "cell_type": "code",
   "execution_count": 6,
   "metadata": {},
   "outputs": [
    {
     "data": {
      "text/plain": [
       "3    26263\n",
       "0       70\n",
       "2       12\n",
       "7        2\n",
       "1        2\n",
       "8        1\n",
       "5        1\n",
       "Name: advertiser_id, dtype: int64"
      ]
     },
     "execution_count": 6,
     "metadata": {},
     "output_type": "execute_result"
    }
   ],
   "source": [
    "# internal id for the advertiser, Jampp's client paying for the ad\n",
    "advertisers = clicks['advertiser_id'].value_counts()\n",
    "advertisers"
   ]
  },
  {
   "cell_type": "code",
   "execution_count": 13,
   "metadata": {},
   "outputs": [
    {
     "data": {
      "image/png": "[encoded data removed]",
      "text/plain": [
       "<Figure size 864x432 with 1 Axes>"
      ]
     },
     "metadata": {
      "needs_background": "light"
     },
     "output_type": "display_data"
    }
   ],
   "source": [
    "# Analizamos visualmente los advertisers\n",
    "plt.figure(figsize=(12, 6))\n",
    "sns.barplot(x = advertisers.index, y = advertisers.values, palette = sns.color_palette(\"Spectral\", 10))\n",
    "\n",
    "plt.xticks(rotation = 0, fontsize = 'medium')\n",
    "plt.tick_params(top = False, bottom = False, left = False, right = False, labelleft = True, labelbottom = True)\n",
    "plt.title('Advertisers', fontsize = 'xx-large')\n",
    "plt.xlabel('Advertiser por id', fontsize = 'large')\n",
    "plt.ylabel('Clicks por advertiser', labelpad = 20, fontsize = 'large')\n",
    "plt.show()"
   ]
  },
  {
   "cell_type": "code",
   "execution_count": 7,
   "metadata": {},
   "outputs": [
    {
     "data": {
      "text/plain": [
       "0     17009\n",
       "1      4298\n",
       "6      3371\n",
       "5      1628\n",
       "2        27\n",
       "3         9\n",
       "10        3\n",
       "7         2\n",
       "4         2\n",
       "9         1\n",
       "8         1\n",
       "Name: source_id, dtype: int64"
      ]
     },
     "execution_count": 7,
     "metadata": {},
     "output_type": "execute_result"
    }
   ],
   "source": [
    "# internal id for the source (exchange) from which the click originated\n",
    "sources = clicks['source_id'].value_counts()\n",
    "sources"
   ]
  },
  {
   "cell_type": "code",
   "execution_count": 14,
   "metadata": {},
   "outputs": [
    {
     "data": {
      "image/png": "[encoded data removed]",
      "text/plain": [
       "<Figure size 864x432 with 1 Axes>"
      ]
     },
     "metadata": {
      "needs_background": "light"
     },
     "output_type": "display_data"
    }
   ],
   "source": [
    "# Analizamos visualmente los sources\n",
    "plt.figure(figsize=(12, 6))\n",
    "sns.barplot(x = sources.index, y = sources.values, palette = sns.color_palette(\"Spectral\", 10))\n",
    "\n",
    "plt.xticks(rotation = 0, fontsize = 'medium')\n",
    "plt.tick_params(top = False, bottom = False, left = False, right = False, labelleft = True, labelbottom = True)\n",
    "plt.title('Click sources', fontsize = 'xx-large')\n",
    "plt.xlabel('Sources por id', fontsize = 'large')\n",
    "plt.ylabel('Clicks por source', labelpad = 20, fontsize = 'large')\n",
    "plt.show()"
   ]
  },
  {
   "cell_type": "markdown",
   "metadata": {},
   "source": [
    "### Cambiamos el tipo de dato de la columna 'date' a datetime, y creamos dos nuevas columnas que contengan por separado la fecha y horario de los clicks"
   ]
  },
  {
   "cell_type": "code",
   "execution_count": 15,
   "metadata": {},
   "outputs": [],
   "source": [
    "clicks['created'] = pd.to_datetime(clicks['created'])\n",
    "clicks['just_date'] = pd.to_datetime(pd.to_datetime(clicks['created']).dt.date)\n",
    "clicks['just_time'] = pd.to_datetime(clicks['created']).dt.time"
   ]
  },
  {
   "cell_type": "markdown",
   "metadata": {},
   "source": [
    "### Analizamos los datos por fecha"
   ]
  },
  {
   "cell_type": "code",
   "execution_count": 16,
   "metadata": {},
   "outputs": [
    {
     "data": {
      "text/plain": [
       "just_date\n",
       "2019-03-05      31\n",
       "2019-03-06      14\n",
       "2019-03-07    2989\n",
       "2019-03-08    2839\n",
       "2019-03-09    3283\n",
       "2019-03-10    3966\n",
       "2019-03-11    4557\n",
       "2019-03-12    5204\n",
       "2019-03-13    3468\n",
       "dtype: int64"
      ]
     },
     "execution_count": 16,
     "metadata": {},
     "output_type": "execute_result"
    }
   ],
   "source": [
    "clicks.groupby('just_date').size()"
   ]
  },
  {
   "cell_type": "code",
   "execution_count": 25,
   "metadata": {},
   "outputs": [
    {
     "data": {
      "image/png": "[encoded data removed]",
      "text/plain": [
       "<Figure size 1008x432 with 1 Axes>"
      ]
     },
     "metadata": {
      "needs_background": "light"
     },
     "output_type": "display_data"
    }
   ],
   "source": [
    "plt.figure(figsize=(14, 6))\n",
    "clicks['just_date'].value_counts().plot(color = '#008751', alpha = 0.8)\n",
    "\n",
    "plt.xticks(rotation = 0, ticks = [pd.to_datetime('2019-03-05 12:00:00'), pd.to_datetime('2019-03-06 12:00:00'), pd.to_datetime('2019-03-07 12:00:00'), \n",
    "                                  pd.to_datetime('2019-03-08 12:00:00'), pd.to_datetime('2019-03-09 12:00:00'), pd.to_datetime('2019-03-10 12:00:00'),\n",
    "                   pd.to_datetime('2019-03-11 12:00:00'), pd.to_datetime('2019-03-12 12:00:00'), pd.to_datetime('2019-03-13 12:00:00')],\n",
    "           labels = ['2019-03-05', '2019-03-06', '2019-03-07', '2019-03-08','2019-03-09', '2019-03-10', '2019-03-11', '2019-03-12', '2019-03-13'], \n",
    "           fontsize = 'medium')\n",
    "plt.tick_params(top = False, bottom = False, left = False, right = False, labelleft = True, labelbottom = True)\n",
    "plt.ylabel('Cantidad de clicks', labelpad = 20, fontsize = 'large')\n",
    "plt.title('Cantidad de clicks por día', fontsize = 'xx-large')\n",
    "plt.ylim(0, 6000)\n",
    "plt.show()"
   ]
  },
  {
   "cell_type": "markdown",
   "metadata": {},
   "source": [
    "### Por hora"
   ]
  },
  {
   "cell_type": "code",
   "execution_count": 28,
   "metadata": {},
   "outputs": [
    {
     "data": {
      "image/png": "[encoded data removed]",
      "text/plain": [
       "<Figure size 1152x432 with 1 Axes>"
      ]
     },
     "metadata": {
      "needs_background": "light"
     },
     "output_type": "display_data"
    }
   ],
   "source": [
    "fig = plt.figure(figsize=(16, 6))\n",
    "clicks['created'].groupby(clicks['created'].dt.hour).count().plot(kind = 'line', color = '#008751', alpha = 0.8)\n",
    "\n",
    "plt.xticks(rotation = 0, ticks = [0, 4, 8, 12, 16, 20, 24], labels = ['00:00', '04:00', '08:00', '12:00', '16:00', '20:00', '24:00'], fontsize = 'medium')\n",
    "plt.tick_params(top = False, bottom = False, left = False, right = False, labelleft = True, labelbottom = True)\n",
    "plt.ylabel('Cantidad de clicks', labelpad = 20, fontsize = 'large')\n",
    "plt.title('Cantidad de clicks por hora del día', fontsize = 'xx-large')\n",
    "plt.xlabel('')\n",
    "plt.show()"
   ]
  },
  {
   "cell_type": "markdown",
   "metadata": {},
   "source": [
    "### Continuamos el análisis de los campos de nuestro interés"
   ]
  },
  {
   "cell_type": "code",
   "execution_count": 8,
   "metadata": {},
   "outputs": [
    {
     "data": {
      "text/plain": [
       "6333597102633388268    26351\n",
       "Name: country_code, dtype: int64"
      ]
     },
     "execution_count": 8,
     "metadata": {},
     "output_type": "execute_result"
    }
   ],
   "source": [
    "# internal country code id\n",
    "countries = clicks['country_code'].value_counts()\n",
    "countries"
   ]
  },
  {
   "cell_type": "markdown",
   "metadata": {},
   "source": [
    "### Esto anterior confirma que la muestra fué tomada en un solo país, por tanto podemos enfocar nuestra atención a las ubicaciones con mayor concentración de clicks"
   ]
  },
  {
   "cell_type": "code",
   "execution_count": 9,
   "metadata": {},
   "outputs": [
    {
     "data": {
      "text/plain": [
       "1.205689    22949\n",
       "1.218924     1105\n",
       "1.235406      281\n",
       "1.205393      261\n",
       "1.208059      186\n",
       "1.205058      171\n",
       "1.223819      100\n",
       "1.209520       95\n",
       "1.206592       90\n",
       "1.209372       83\n",
       "1.209165       75\n",
       "1.211090       65\n",
       "1.214036       53\n",
       "1.205864       47\n",
       "1.206684       45\n",
       "1.230641       44\n",
       "1.210313       40\n",
       "1.216193       33\n",
       "1.207268       30\n",
       "1.217111       30\n",
       "1.234142       26\n",
       "1.208485       24\n",
       "1.209638       24\n",
       "1.215060       24\n",
       "1.206435       22\n",
       "1.206369       21\n",
       "1.209330       20\n",
       "1.208551       20\n",
       "1.209100       20\n",
       "1.222768       20\n",
       "            ...  \n",
       "1.206923        8\n",
       "1.207905        8\n",
       "1.208795        7\n",
       "1.212213        7\n",
       "1.209064        6\n",
       "1.212601        5\n",
       "1.209883        5\n",
       "1.213918        5\n",
       "1.218048        5\n",
       "1.205771        5\n",
       "1.211060        4\n",
       "1.237861        4\n",
       "1.208644        4\n",
       "1.205833        4\n",
       "1.205746        3\n",
       "1.206181        3\n",
       "1.212693        3\n",
       "1.205951        3\n",
       "1.206259        2\n",
       "1.223550        2\n",
       "1.206391        2\n",
       "1.213671        2\n",
       "1.222527        2\n",
       "1.227118        2\n",
       "1.206823        2\n",
       "1.205356        2\n",
       "1.206249        2\n",
       "1.228208        1\n",
       "1.223863        1\n",
       "1.205475        1\n",
       "Name: latitude, Length: 78, dtype: int64"
      ]
     },
     "execution_count": 9,
     "metadata": {},
     "output_type": "execute_result"
    }
   ],
   "source": [
    "# estimated lat where the click was performed\n",
    "latitudes = clicks['latitude'].value_counts()\n",
    "latitudes"
   ]
  },
  {
   "cell_type": "code",
   "execution_count": 11,
   "metadata": {},
   "outputs": [
    {
     "data": {
      "text/plain": [
       "1.070234    22949\n",
       "1.071209     1105\n",
       "1.063737      281\n",
       "1.077238      250\n",
       "1.069624      186\n",
       "1.077332      171\n",
       "1.059475      100\n",
       "1.069958       90\n",
       "1.065525       85\n",
       "1.067147       83\n",
       "1.062330       75\n",
       "1.069987       65\n",
       "1.085358       53\n",
       "1.071447       45\n",
       "1.060085       44\n",
       "1.069973       41\n",
       "1.078356       40\n",
       "1.068226       33\n",
       "1.067693       30\n",
       "1.059728       30\n",
       "1.073781       26\n",
       "1.064208       24\n",
       "1.066156       24\n",
       "1.060796       24\n",
       "1.071194       22\n",
       "1.069933       21\n",
       "1.075605       20\n",
       "1.075580       20\n",
       "1.068982       20\n",
       "1.072560       20\n",
       "            ...  \n",
       "1.071944        8\n",
       "1.073021        8\n",
       "1.062970        7\n",
       "1.060965        7\n",
       "1.068144        6\n",
       "1.059288        5\n",
       "1.071220        5\n",
       "1.058204        5\n",
       "1.061768        5\n",
       "1.062037        5\n",
       "1.071446        4\n",
       "1.071305        4\n",
       "1.068549        4\n",
       "1.073223        4\n",
       "1.063440        3\n",
       "1.069428        3\n",
       "1.071895        3\n",
       "1.082651        2\n",
       "1.069308        2\n",
       "1.064408        2\n",
       "1.081584        2\n",
       "1.072806        2\n",
       "1.071822        2\n",
       "1.070163        2\n",
       "1.070100        2\n",
       "1.072127        2\n",
       "1.075591        2\n",
       "1.065225        1\n",
       "1.078145        1\n",
       "1.071317        1\n",
       "Name: longitude, Length: 81, dtype: int64"
      ]
     },
     "execution_count": 11,
     "metadata": {},
     "output_type": "execute_result"
    }
   ],
   "source": [
    "# estimated lon where the click was performed\n",
    "longitudes = clicks['longitude'].value_counts()\n",
    "longitudes"
   ]
  },
  {
   "cell_type": "markdown",
   "metadata": {},
   "source": [
    "### La muestra por ubicación es muy dispersa, por tanto nos concentraremos en analizar las ubicaciones con mayor concentración por medio de joins"
   ]
  },
  {
   "cell_type": "code",
   "execution_count": 12,
   "metadata": {},
   "outputs": [
    {
     "data": {
      "text/plain": [
       "False    26351\n",
       "Name: wifi_connection, dtype: int64"
      ]
     },
     "execution_count": 12,
     "metadata": {},
     "output_type": "execute_result"
    }
   ],
   "source": [
    "# Boolean describing whether the click was performed while on a wifi network\n",
    "wifi_connections = clicks['wifi_connection'].value_counts()\n",
    "wifi_connections"
   ]
  },
  {
   "cell_type": "code",
   "execution_count": null,
   "metadata": {},
   "outputs": [],
   "source": []
  }
 ],
 "metadata": {
  "kernelspec": {
   "display_name": "Python 3",
   "language": "python",
   "name": "python3"
  },
  "language_info": {
   "codemirror_mode": {
    "name": "ipython",
    "version": 3
   },
   "file_extension": ".py",
   "mimetype": "text/x-python",
   "name": "python",
   "nbconvert_exporter": "python",
   "pygments_lexer": "ipython3",
   "version": "3.6.7"
  }
 },
 "nbformat": 4,
 "nbformat_minor": 2
}
