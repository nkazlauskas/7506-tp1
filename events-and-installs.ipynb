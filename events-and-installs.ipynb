{
 "cells": [
  {
   "cell_type": "code",
   "execution_count": 22,
   "metadata": {},
   "outputs": [],
   "source": [
    "import pandas as pd\n",
    "import matplotlib.pyplot as plt\n",
    "import seaborn as sns"
   ]
  },
  {
   "cell_type": "code",
   "execution_count": 5,
   "metadata": {},
   "outputs": [
    {
     "name": "stderr",
     "output_type": "stream",
     "text": [
      "/home/nadia/.local/share/virtualenvs/notebooks-RwJWnc7b/lib/python3.5/site-packages/IPython/core/interactiveshell.py:3049: DtypeWarning: Columns (12,18,19) have mixed types. Specify dtype option on import or set low_memory=False.\n",
      "  interactivity=interactivity, compiler=compiler, result=result)\n"
     ]
    }
   ],
   "source": [
    "events = pd.read_csv('events.csv.gzip', compression = 'gzip')"
   ]
  },
  {
   "cell_type": "code",
   "execution_count": 307,
   "metadata": {},
   "outputs": [],
   "source": [
    "installs = pd.read_csv('installs.csv.gzip', compression = 'gzip')"
   ]
  },
  {
   "cell_type": "markdown",
   "metadata": {},
   "source": [
    "#### Chequeamos que las columnas de interés no contengan valores nulos"
   ]
  },
  {
   "cell_type": "code",
   "execution_count": 305,
   "metadata": {},
   "outputs": [
    {
     "data": {
      "text/plain": [
       "date                  False\n",
       "event_id              False\n",
       "ref_type              False\n",
       "ref_hash              False\n",
       "application_id        False\n",
       "attributed            False\n",
       "device_countrycode    False\n",
       "device_os_version      True\n",
       "device_brand           True\n",
       "device_model           True\n",
       "device_city            True\n",
       "session_user_agent     True\n",
       "trans_id               True\n",
       "user_agent             True\n",
       "event_uuid             True\n",
       "carrier                True\n",
       "kind                   True\n",
       "device_os              True\n",
       "wifi                   True\n",
       "connection_type        True\n",
       "ip_address            False\n",
       "device_language        True\n",
       "dtype: bool"
      ]
     },
     "execution_count": 305,
     "metadata": {},
     "output_type": "execute_result"
    }
   ],
   "source": [
    "events.isnull().any()"
   ]
  },
  {
   "cell_type": "code",
   "execution_count": 306,
   "metadata": {},
   "outputs": [
    {
     "data": {
      "text/plain": [
       "created               False\n",
       "application_id        False\n",
       "ref_type              False\n",
       "ref_hash              False\n",
       "click_hash             True\n",
       "attributed            False\n",
       "implicit              False\n",
       "device_countrycode    False\n",
       "device_brand           True\n",
       "device_model           True\n",
       "session_user_agent     True\n",
       "user_agent             True\n",
       "event_uuid             True\n",
       "kind                   True\n",
       "wifi                   True\n",
       "trans_id               True\n",
       "ip_address            False\n",
       "device_language        True\n",
       "dtype: bool"
      ]
     },
     "execution_count": 306,
     "metadata": {},
     "output_type": "execute_result"
    }
   ],
   "source": [
    "installs.isnull().any()"
   ]
  },
  {
   "cell_type": "markdown",
   "metadata": {},
   "source": [
    "#### Buscamos los devices que se encuentran tanto en el dataset con información sobre los clicks como en el de información sobre los installs"
   ]
  },
  {
   "cell_type": "code",
   "execution_count": 99,
   "metadata": {},
   "outputs": [],
   "source": [
    "installed_clicks = pd.merge(clicks, installs, on='ref_hash', how='inner')"
   ]
  },
  {
   "cell_type": "code",
   "execution_count": 100,
   "metadata": {},
   "outputs": [
    {
     "data": {
      "text/plain": [
       "11"
      ]
     },
     "execution_count": 100,
     "metadata": {},
     "output_type": "execute_result"
    }
   ],
   "source": [
    "len(installed_clicks)"
   ]
  },
  {
   "cell_type": "markdown",
   "metadata": {},
   "source": [
    "#### Dado que este número es muy bajo no nos permite realizar un correcto análisis "
   ]
  },
  {
   "cell_type": "markdown",
   "metadata": {},
   "source": [
    "#### Buscamos entonces los devices que se encuentren en el dataset de eventos así como en el dataset de instalaciones"
   ]
  },
  {
   "cell_type": "code",
   "execution_count": 7,
   "metadata": {},
   "outputs": [],
   "source": [
    "merged = pd.merge(events, installs, on='ref_hash', how='inner')"
   ]
  },
  {
   "cell_type": "code",
   "execution_count": 8,
   "metadata": {},
   "outputs": [
    {
     "data": {
      "text/plain": [
       "53157"
      ]
     },
     "execution_count": 8,
     "metadata": {},
     "output_type": "execute_result"
    }
   ],
   "source": [
    "len(merged)"
   ]
  },
  {
   "cell_type": "code",
   "execution_count": 13,
   "metadata": {},
   "outputs": [
    {
     "data": {
      "text/html": [
       "<div>\n",
       "<style scoped>\n",
       "    .dataframe tbody tr th:only-of-type {\n",
       "        vertical-align: middle;\n",
       "    }\n",
       "\n",
       "    .dataframe tbody tr th {\n",
       "        vertical-align: top;\n",
       "    }\n",
       "\n",
       "    .dataframe thead th {\n",
       "        text-align: right;\n",
       "    }\n",
       "</style>\n",
       "<table border=\"1\" class=\"dataframe\">\n",
       "  <thead>\n",
       "    <tr style=\"text-align: right;\">\n",
       "      <th></th>\n",
       "      <th>date</th>\n",
       "      <th>event_id</th>\n",
       "      <th>ref_type_x</th>\n",
       "      <th>ref_hash</th>\n",
       "      <th>application_id_x</th>\n",
       "      <th>attributed_x</th>\n",
       "      <th>device_countrycode_x</th>\n",
       "      <th>device_os_version</th>\n",
       "      <th>device_brand_x</th>\n",
       "      <th>device_model_x</th>\n",
       "      <th>...</th>\n",
       "      <th>device_model_y</th>\n",
       "      <th>session_user_agent_y</th>\n",
       "      <th>user_agent_y</th>\n",
       "      <th>event_uuid_y</th>\n",
       "      <th>kind_y</th>\n",
       "      <th>wifi_y</th>\n",
       "      <th>trans_id_y</th>\n",
       "      <th>ip_address_y</th>\n",
       "      <th>device_language_y</th>\n",
       "      <th>pre_install</th>\n",
       "    </tr>\n",
       "  </thead>\n",
       "  <tbody>\n",
       "    <tr>\n",
       "      <th>0</th>\n",
       "      <td>2019-03-10 18:28:09.696</td>\n",
       "      <td>1</td>\n",
       "      <td>1494519392962156891</td>\n",
       "      <td>5007008548832677915</td>\n",
       "      <td>43</td>\n",
       "      <td>False</td>\n",
       "      <td>6333597102633388268</td>\n",
       "      <td>4.353750e+18</td>\n",
       "      <td>NaN</td>\n",
       "      <td>1.267677e+18</td>\n",
       "      <td>...</td>\n",
       "      <td>2.331947e+18</td>\n",
       "      <td>http-kit/2.0</td>\n",
       "      <td>MercadoPago/2.58.0.2 CFNetwork/976 Darwin/18.2.0</td>\n",
       "      <td>NaN</td>\n",
       "      <td>NaN</td>\n",
       "      <td>True</td>\n",
       "      <td>NaN</td>\n",
       "      <td>6447840378868652213</td>\n",
       "      <td>4.621024e+18</td>\n",
       "      <td>False</td>\n",
       "    </tr>\n",
       "    <tr>\n",
       "      <th>1</th>\n",
       "      <td>2019-03-10 18:28:30.550</td>\n",
       "      <td>33</td>\n",
       "      <td>1494519392962156891</td>\n",
       "      <td>5007008548832677915</td>\n",
       "      <td>43</td>\n",
       "      <td>False</td>\n",
       "      <td>6333597102633388268</td>\n",
       "      <td>4.353750e+18</td>\n",
       "      <td>NaN</td>\n",
       "      <td>1.267677e+18</td>\n",
       "      <td>...</td>\n",
       "      <td>2.331947e+18</td>\n",
       "      <td>http-kit/2.0</td>\n",
       "      <td>MercadoPago/2.58.0.2 CFNetwork/976 Darwin/18.2.0</td>\n",
       "      <td>NaN</td>\n",
       "      <td>NaN</td>\n",
       "      <td>True</td>\n",
       "      <td>NaN</td>\n",
       "      <td>6447840378868652213</td>\n",
       "      <td>4.621024e+18</td>\n",
       "      <td>False</td>\n",
       "    </tr>\n",
       "    <tr>\n",
       "      <th>2</th>\n",
       "      <td>2019-03-11 15:39:41.486</td>\n",
       "      <td>1</td>\n",
       "      <td>1494519392962156891</td>\n",
       "      <td>5007008548832677915</td>\n",
       "      <td>43</td>\n",
       "      <td>False</td>\n",
       "      <td>6333597102633388268</td>\n",
       "      <td>4.353750e+18</td>\n",
       "      <td>NaN</td>\n",
       "      <td>1.267677e+18</td>\n",
       "      <td>...</td>\n",
       "      <td>2.331947e+18</td>\n",
       "      <td>http-kit/2.0</td>\n",
       "      <td>MercadoPago/2.58.0.2 CFNetwork/976 Darwin/18.2.0</td>\n",
       "      <td>NaN</td>\n",
       "      <td>NaN</td>\n",
       "      <td>True</td>\n",
       "      <td>NaN</td>\n",
       "      <td>6447840378868652213</td>\n",
       "      <td>4.621024e+18</td>\n",
       "      <td>False</td>\n",
       "    </tr>\n",
       "    <tr>\n",
       "      <th>3</th>\n",
       "      <td>2019-03-11 15:40:36.377</td>\n",
       "      <td>33</td>\n",
       "      <td>1494519392962156891</td>\n",
       "      <td>5007008548832677915</td>\n",
       "      <td>43</td>\n",
       "      <td>False</td>\n",
       "      <td>6333597102633388268</td>\n",
       "      <td>4.353750e+18</td>\n",
       "      <td>NaN</td>\n",
       "      <td>1.267677e+18</td>\n",
       "      <td>...</td>\n",
       "      <td>2.331947e+18</td>\n",
       "      <td>http-kit/2.0</td>\n",
       "      <td>MercadoPago/2.58.0.2 CFNetwork/976 Darwin/18.2.0</td>\n",
       "      <td>NaN</td>\n",
       "      <td>NaN</td>\n",
       "      <td>True</td>\n",
       "      <td>NaN</td>\n",
       "      <td>6447840378868652213</td>\n",
       "      <td>4.621024e+18</td>\n",
       "      <td>False</td>\n",
       "    </tr>\n",
       "    <tr>\n",
       "      <th>4</th>\n",
       "      <td>2019-03-11 15:39:20.750</td>\n",
       "      <td>33</td>\n",
       "      <td>1494519392962156891</td>\n",
       "      <td>5007008548832677915</td>\n",
       "      <td>43</td>\n",
       "      <td>False</td>\n",
       "      <td>6333597102633388268</td>\n",
       "      <td>4.353750e+18</td>\n",
       "      <td>NaN</td>\n",
       "      <td>1.267677e+18</td>\n",
       "      <td>...</td>\n",
       "      <td>2.331947e+18</td>\n",
       "      <td>http-kit/2.0</td>\n",
       "      <td>MercadoPago/2.58.0.2 CFNetwork/976 Darwin/18.2.0</td>\n",
       "      <td>NaN</td>\n",
       "      <td>NaN</td>\n",
       "      <td>True</td>\n",
       "      <td>NaN</td>\n",
       "      <td>6447840378868652213</td>\n",
       "      <td>4.621024e+18</td>\n",
       "      <td>False</td>\n",
       "    </tr>\n",
       "  </tbody>\n",
       "</table>\n",
       "<p>5 rows × 40 columns</p>\n",
       "</div>"
      ],
      "text/plain": [
       "                      date  event_id           ref_type_x  \\\n",
       "0  2019-03-10 18:28:09.696         1  1494519392962156891   \n",
       "1  2019-03-10 18:28:30.550        33  1494519392962156891   \n",
       "2  2019-03-11 15:39:41.486         1  1494519392962156891   \n",
       "3  2019-03-11 15:40:36.377        33  1494519392962156891   \n",
       "4  2019-03-11 15:39:20.750        33  1494519392962156891   \n",
       "\n",
       "              ref_hash  application_id_x  attributed_x  device_countrycode_x  \\\n",
       "0  5007008548832677915                43         False   6333597102633388268   \n",
       "1  5007008548832677915                43         False   6333597102633388268   \n",
       "2  5007008548832677915                43         False   6333597102633388268   \n",
       "3  5007008548832677915                43         False   6333597102633388268   \n",
       "4  5007008548832677915                43         False   6333597102633388268   \n",
       "\n",
       "   device_os_version  device_brand_x  device_model_x  ...  device_model_y  \\\n",
       "0       4.353750e+18             NaN    1.267677e+18  ...    2.331947e+18   \n",
       "1       4.353750e+18             NaN    1.267677e+18  ...    2.331947e+18   \n",
       "2       4.353750e+18             NaN    1.267677e+18  ...    2.331947e+18   \n",
       "3       4.353750e+18             NaN    1.267677e+18  ...    2.331947e+18   \n",
       "4       4.353750e+18             NaN    1.267677e+18  ...    2.331947e+18   \n",
       "\n",
       "   session_user_agent_y                                      user_agent_y  \\\n",
       "0          http-kit/2.0  MercadoPago/2.58.0.2 CFNetwork/976 Darwin/18.2.0   \n",
       "1          http-kit/2.0  MercadoPago/2.58.0.2 CFNetwork/976 Darwin/18.2.0   \n",
       "2          http-kit/2.0  MercadoPago/2.58.0.2 CFNetwork/976 Darwin/18.2.0   \n",
       "3          http-kit/2.0  MercadoPago/2.58.0.2 CFNetwork/976 Darwin/18.2.0   \n",
       "4          http-kit/2.0  MercadoPago/2.58.0.2 CFNetwork/976 Darwin/18.2.0   \n",
       "\n",
       "   event_uuid_y kind_y  wifi_y  trans_id_y         ip_address_y  \\\n",
       "0           NaN    NaN    True         NaN  6447840378868652213   \n",
       "1           NaN    NaN    True         NaN  6447840378868652213   \n",
       "2           NaN    NaN    True         NaN  6447840378868652213   \n",
       "3           NaN    NaN    True         NaN  6447840378868652213   \n",
       "4           NaN    NaN    True         NaN  6447840378868652213   \n",
       "\n",
       "  device_language_y pre_install  \n",
       "0      4.621024e+18       False  \n",
       "1      4.621024e+18       False  \n",
       "2      4.621024e+18       False  \n",
       "3      4.621024e+18       False  \n",
       "4      4.621024e+18       False  \n",
       "\n",
       "[5 rows x 40 columns]"
      ]
     },
     "execution_count": 13,
     "metadata": {},
     "output_type": "execute_result"
    }
   ],
   "source": [
    "merged.head()"
   ]
  },
  {
   "cell_type": "code",
   "execution_count": null,
   "metadata": {},
   "outputs": [],
   "source": [
    "#Queremos ver cuales son los eventos que mas ocurrencias tienen en estos usuarios, que tb tienen un install"
   ]
  },
  {
   "cell_type": "code",
   "execution_count": 18,
   "metadata": {},
   "outputs": [],
   "source": [
    "top_10_events = merged['event_id'].value_counts().sort_values(ascending = False).head(10)"
   ]
  },
  {
   "cell_type": "code",
   "execution_count": 19,
   "metadata": {},
   "outputs": [
    {
     "data": {
      "text/plain": [
       "22     17696\n",
       "31      5756\n",
       "80      3120\n",
       "138     3039\n",
       "81      2464\n",
       "1       2385\n",
       "171     2272\n",
       "513     1726\n",
       "82      1634\n",
       "89      1097\n",
       "Name: event_id, dtype: int64"
      ]
     },
     "execution_count": 19,
     "metadata": {},
     "output_type": "execute_result"
    }
   ],
   "source": [
    "top_10_events"
   ]
  },
  {
   "cell_type": "code",
   "execution_count": 20,
   "metadata": {},
   "outputs": [
    {
     "data": {
      "text/plain": [
       "0.7748556163816619"
      ]
     },
     "execution_count": 20,
     "metadata": {},
     "output_type": "execute_result"
    }
   ],
   "source": [
    "top_10_events.sum()/len(merged['event_id'])"
   ]
  },
  {
   "cell_type": "code",
   "execution_count": 23,
   "metadata": {},
   "outputs": [
    {
     "data": {
      "image/png": "[encoded data removed]",
      "text/plain": [
       "<Figure size 864x432 with 1 Axes>"
      ]
     },
     "metadata": {
      "needs_background": "light"
     },
     "output_type": "display_data"
    }
   ],
   "source": [
    "plt.figure(figsize=(12, 6))\n",
    "sns.barplot(x = top_10_events.index, y = top_10_events.values, palette = sns.color_palette(\"Spectral\", 10))\n",
    "\n",
    "plt.xticks(rotation = 0, fontsize = 'medium')\n",
    "plt.tick_params(top = False, bottom = False, left = False, right = False, labelleft = True, labelbottom = True)\n",
    "plt.ylabel('Cantidad de eventos', labelpad = 20, fontsize = 'large')\n",
    "plt.title('Cantidad de eventos para cada tipo de evento en usuarios con install', fontsize = 'xx-large')\n",
    "plt.xlabel('Tipo de evento', fontsize = 'large')\n",
    "plt.show();"
   ]
  },
  {
   "cell_type": "code",
   "execution_count": null,
   "metadata": {},
   "outputs": [],
   "source": [
    "#algunos de los codigos de eventos concuerdan con los eventos mayoritarios del caso general, pero otros aparecen solo en este subset de usuarios"
   ]
  },
  {
   "cell_type": "code",
   "execution_count": null,
   "metadata": {},
   "outputs": [],
   "source": [
    "#Queremos comparar tb los eventos con mayor cantidad de atribuciones a jampp"
   ]
  },
  {
   "cell_type": "code",
   "execution_count": 26,
   "metadata": {},
   "outputs": [
    {
     "data": {
      "text/plain": [
       "False    53048\n",
       "True       109\n",
       "Name: attributed_x, dtype: int64"
      ]
     },
     "execution_count": 26,
     "metadata": {},
     "output_type": "execute_result"
    }
   ],
   "source": [
    "merged['attributed_x'].value_counts()"
   ]
  },
  {
   "cell_type": "code",
   "execution_count": 25,
   "metadata": {},
   "outputs": [
    {
     "data": {
      "text/plain": [
       "event_id\n",
       "513    87.0\n",
       "239     8.0\n",
       "31      7.0\n",
       "238     4.0\n",
       "153     2.0\n",
       "518     1.0\n",
       "105     0.0\n",
       "117     0.0\n",
       "125     0.0\n",
       "101     0.0\n",
       "Name: attributed_x, dtype: float64"
      ]
     },
     "execution_count": 25,
     "metadata": {},
     "output_type": "execute_result"
    }
   ],
   "source": [
    "most_attr_events = merged.groupby(merged['event_id']).attributed_x.sum()\n",
    "most_attr_events = most_attr_events.sort_values(ascending = False).head(10)\n",
    "most_attr_events"
   ]
  },
  {
   "cell_type": "code",
   "execution_count": 27,
   "metadata": {},
   "outputs": [],
   "source": [
    "filtered_by_most_attr = merged[merged['event_id'].isin(most_attr_events.index)]"
   ]
  },
  {
   "cell_type": "code",
   "execution_count": 28,
   "metadata": {},
   "outputs": [
    {
     "data": {
      "text/plain": [
       "31      0.121612\n",
       "101     0.000000\n",
       "105     0.000000\n",
       "117     0.000000\n",
       "125     0.000000\n",
       "153     0.735294\n",
       "238    21.052632\n",
       "239    34.782609\n",
       "513     5.040556\n",
       "518    25.000000\n",
       "dtype: float64"
      ]
     },
     "execution_count": 28,
     "metadata": {},
     "output_type": "execute_result"
    }
   ],
   "source": [
    "most_attr_perc = most_attr_events/filtered_by_most_attr['event_id'].value_counts()*100\n",
    "most_attr_perc"
   ]
  },
  {
   "cell_type": "code",
   "execution_count": null,
   "metadata": {},
   "outputs": [],
   "source": [
    "#Vemos que el numero de atribuciones a jampp es pequeno desntro de este subset de usuarios, con una gran diferencia entre el evento con mas ocurrencias\n",
    "#y el que le sigue, siendo esta de un orden de magnitud. tomaremos al evento de codigo 513 como el evento de mayor atribucion a jampp, y descartaremos el resto ya\n",
    "#que sus cantidades son demasiado pequenas y podriamos caer en errores de pequeno tamano muestral"
   ]
  },
  {
   "cell_type": "code",
   "execution_count": null,
   "metadata": {},
   "outputs": [],
   "source": [
    "#si miramos el caso general, el 513 tb era el evento con mayor porcentaje de atribuciones a jampp\n",
    "#dado q se encuentra como el mas atribuido es un evento importante, pero dado q esta en ambos grupos no podemos relacionarlo directamente con los installs.\n",
    "\n",
    "#podriamos ver que viene antes del 513."
   ]
  },
  {
   "cell_type": "code",
   "execution_count": null,
   "metadata": {},
   "outputs": [],
   "source": [
    "#si bien este evento es frecuente entre los usuarios q instalaron, nos gustaria tener una idea de la temporalidad de los eventos\n",
    "#queremos identificar los eventos q ocurren proximos a un evento de instalacion\n",
    "#"
   ]
  },
  {
   "cell_type": "code",
   "execution_count": 125,
   "metadata": {},
   "outputs": [],
   "source": [
    "#Timestamp en que fue creado el evento\n",
    "merged['event_timestamp'] = pd.to_datetime(merged.date)\n",
    "\n",
    "#Timestamp en que fue creado el evento de instalación\n",
    "merged['install_timestamp'] = pd.to_datetime(merged.created)\n",
    "\n",
    "#Calculamos la diferencia entre un evento y un evento de instalación, en segundos\n",
    "merged['install_delta'] = (merged['event_timestamp'] - merged['install_timestamp']).dt.total_seconds()"
   ]
  },
  {
   "cell_type": "markdown",
   "metadata": {},
   "source": [
    "#### Queremos ver cómo es la distribución de los eventos alrededor del evento de instalación"
   ]
  },
  {
   "cell_type": "code",
   "execution_count": 126,
   "metadata": {},
   "outputs": [
    {
     "data": {
      "image/png": "[encoded data removed]",
      "text/plain": [
       "<Figure size 864x432 with 1 Axes>"
      ]
     },
     "metadata": {
      "needs_background": "light"
     },
     "output_type": "display_data"
    }
   ],
   "source": [
    "plt.figure(figsize=(12, 6))\n",
    "plt.hist(merged['install_delta'], bins = 50, color = '#008751', alpha = 0.8)\n",
    "\n",
    "plt.tick_params(top = False, bottom = True, left = False, right = False, labelleft = True, labelbottom = True)\n",
    "plt.axvline(0, color='#40434E', linewidth=1.5, linestyle='dashed')\n",
    "plt.ylabel('Cantidad de eventos', labelpad = 20, fontsize = 'x-large')\n",
    "plt.xlabel('Diferencia temporal entre instalación y evento (segundos)', labelpad = 20, fontsize = 'x-large')\n",
    "plt.title('Cantidad de eventos en función de la diferencia temporal entre evento e instalación', fontsize = 'xx-large', pad = 20)\n",
    "plt.show()"
   ]
  },
  {
   "cell_type": "markdown",
   "metadata": {},
   "source": [
    "#### Vemos que hay ocurrencia de eventos pre y post-instalación. La mayor cantidad de ocurrencias sucede muy cercana a la instalación."
   ]
  },
  {
   "cell_type": "markdown",
   "metadata": {},
   "source": [
    "#### Nos interesa saber cuáles son esos eventos"
   ]
  },
  {
   "cell_type": "code",
   "execution_count": 150,
   "metadata": {},
   "outputs": [],
   "source": [
    "#Definimos como eventos 'cercanos a la instalación' aquellos que sucedan en los 2 minutos pre y post instalación\n",
    "#merged['close_to_install'] = abs(merged['install_delta']) < 60 * 2\n",
    "\n",
    "#Los eventos previos a la instalación son aquellos con un delta temporal negativo\n",
    "merged['pre_install'] = merged['install_delta'] < 0"
   ]
  },
  {
   "cell_type": "code",
   "execution_count": 152,
   "metadata": {},
   "outputs": [
    {
     "data": {
      "text/plain": [
       "22     2389\n",
       "138    2273\n",
       "33      755\n",
       "171     525\n",
       "31      503\n",
       "98      456\n",
       "161     388\n",
       "1       383\n",
       "273     371\n",
       "513     334\n",
       "Name: event_id, dtype: int64"
      ]
     },
     "execution_count": 152,
     "metadata": {},
     "output_type": "execute_result"
    }
   ],
   "source": [
    "events_pre_install = merged[merged['pre_install'] == True]\n",
    "events_pre_install = events_pre_install['event_id'].value_counts().head(10)\n",
    "events_pre_install"
   ]
  },
  {
   "cell_type": "code",
   "execution_count": 154,
   "metadata": {},
   "outputs": [
    {
     "data": {
      "text/plain": [
       "22     15307\n",
       "31      5253\n",
       "80      2938\n",
       "81      2361\n",
       "1       2002\n",
       "171     1747\n",
       "82      1571\n",
       "513     1392\n",
       "89      1068\n",
       "138      766\n",
       "Name: event_id, dtype: int64"
      ]
     },
     "execution_count": 154,
     "metadata": {},
     "output_type": "execute_result"
    }
   ],
   "source": [
    "events_post_install = merged[merged['pre_install'] == False]\n",
    "events_post_install = events_post_install['event_id'].value_counts().head(10)\n",
    "events_post_install"
   ]
  },
  {
   "cell_type": "code",
   "execution_count": 308,
   "metadata": {},
   "outputs": [
    {
     "data": {
      "image/png": "[encoded data removed]",
      "text/plain": [
       "<Figure size 1584x432 with 2 Axes>"
      ]
     },
     "metadata": {
      "needs_background": "light"
     },
     "output_type": "display_data"
    }
   ],
   "source": [
    "fig, (ax1, ax2) = plt.subplots(1, 2, figsize = (22, 6))\n",
    "plt.subplots_adjust(hspace = 0.4)\n",
    "\n",
    "ax1.bar(range(10), events_pre_install.values, color = sns.color_palette('OrRd_r', 10))\n",
    "ax1.set_xticks(range(10))\n",
    "ax1.set_xticklabels(events_pre_install.index)\n",
    "ax1.set_xlabel('Eventos pre-instalación', fontsize = 'x-large')\n",
    "ax1.set_ylabel('Cantidad de eventos', fontsize = 'x-large')\n",
    "\n",
    "ax2.bar(range(10), events_post_install.values, color = sns.color_palette('YlGn_r', 10))\n",
    "ax2.set_xticks(range(10))\n",
    "ax2.set_xticklabels(events_post_install.index)\n",
    "ax2.set_xlabel('Eventos post-instalación', fontsize = 'x-large')\n",
    "\n",
    "fig.suptitle('Ubicación temporal de eventos mayoritarios con respecto a la instalación', fontsize = 'xx-large');\n",
    "plt.show();"
   ]
  },
  {
   "cell_type": "markdown",
   "metadata": {},
   "source": [
    "#### Vemos que existen eventos que se encuentran en ambos períodos, mientras que otros pertenecen únicamente a uno"
   ]
  },
  {
   "cell_type": "code",
   "execution_count": 254,
   "metadata": {},
   "outputs": [],
   "source": [
    "pre = set(events_pre_install.index)\n",
    "post = set(events_post_install.index)"
   ]
  },
  {
   "cell_type": "code",
   "execution_count": 256,
   "metadata": {},
   "outputs": [],
   "source": [
    "in_both = pre.union(post)\n",
    "only_pre = pre.difference(post)\n",
    "only_post = post.difference(pre)"
   ]
  },
  {
   "cell_type": "markdown",
   "metadata": {},
   "source": [
    "#### Eventos que ocurren pre y post instalación:"
   ]
  },
  {
   "cell_type": "code",
   "execution_count": 257,
   "metadata": {},
   "outputs": [
    {
     "data": {
      "text/plain": [
       "{1, 22, 31, 33, 80, 81, 82, 89, 98, 138, 161, 171, 273, 513}"
      ]
     },
     "execution_count": 257,
     "metadata": {},
     "output_type": "execute_result"
    }
   ],
   "source": [
    "in_both"
   ]
  },
  {
   "cell_type": "markdown",
   "metadata": {},
   "source": [
    "#### Eventos que ocurren mayoritariamente pre-instalación:"
   ]
  },
  {
   "cell_type": "code",
   "execution_count": 258,
   "metadata": {},
   "outputs": [
    {
     "data": {
      "text/plain": [
       "{33, 98, 161, 273}"
      ]
     },
     "execution_count": 258,
     "metadata": {},
     "output_type": "execute_result"
    }
   ],
   "source": [
    "only_pre"
   ]
  },
  {
   "cell_type": "markdown",
   "metadata": {},
   "source": [
    "#### Eventos que ocurren mayoritariamente post-instalación:"
   ]
  },
  {
   "cell_type": "code",
   "execution_count": 259,
   "metadata": {},
   "outputs": [
    {
     "data": {
      "text/plain": [
       "{80, 81, 82, 89}"
      ]
     },
     "execution_count": 259,
     "metadata": {},
     "output_type": "execute_result"
    }
   ],
   "source": [
    "only_post"
   ]
  },
  {
   "cell_type": "markdown",
   "metadata": {},
   "source": [
    "#### Dado que los eventos post-instalación no nos sirven para predecir una instalación, nos centraremos en los eventos previos. Queremos conocer la distribución de estos eventos, para poder ver si alguno se encuentra ligado temporalmente con el evento de instalación"
   ]
  },
  {
   "cell_type": "code",
   "execution_count": 327,
   "metadata": {},
   "outputs": [
    {
     "data": {
      "image/png": "[encoded data removed]",
      "text/plain": [
       "<Figure size 1152x576 with 1 Axes>"
      ]
     },
     "metadata": {
      "needs_background": "light"
     },
     "output_type": "display_data"
    }
   ],
   "source": [
    "event_33 = merged[merged['event_id'] == 33]['install_delta']\n",
    "event_98 = merged[merged['event_id'] == 98]['install_delta']\n",
    "event_161 = merged[merged['event_id'] == 161]['install_delta']\n",
    "event_273 = merged[merged['event_id'] == 273]['install_delta']\n",
    "\n",
    "plt.figure(figsize=(16, 8))\n",
    "plt_params ={'hist':False, 'kde_kws': {'bw': 0.15}, 'norm_hist': False}\n",
    "sns.distplot(event_33, label = \"Evento 33\", **plt_params)\n",
    "sns.distplot(event_98, label = \"Evento 98\", **plt_params)\n",
    "sns.distplot(event_161, label = \"Evento 161\", **plt_params)\n",
    "sns.distplot(event_273, label = \"Evento 273\", **plt_params)\n",
    "plt.axvline(0, linestyle = '--', color = 'grey')\n",
    "plt.tick_params(top = False, bottom = False, left = False, right = False, labelleft = True, labelbottom = True)\n",
    "plt.ylabel('Densidad', labelpad = 20, fontsize = 'large')\n",
    "plt.title('Estimación de densidad de eventos pre-install en función de la diferencia temporal entre evento e install ', fontsize = 'xx-large')\n",
    "plt.xlabel('Diferencia temporal entre instalación y evento (segundos)', fontsize = 'large')\n",
    "plt.legend(frameon = False, loc = 1, handletextpad = 0.9, fontsize = 'large')\n",
    "plt.show();"
   ]
  },
  {
   "cell_type": "markdown",
   "metadata": {},
   "source": [
    "#### Podemos observar que antes de la instalación (tiempo = 0, marcado con una línea punteada) se observa un pico muy notorio del evento 33, seguido tiempo después de un notorio y progresivo aumento de los eventos 98 y 161.\n",
    "#### La presencia de este patrón de eventos en un usuario, podría ser útil para predecir una instalación. Dado que el evento 33 se encuentra más alejado temporalmente del evento de instalación, probablemente los eventos más significativos sean el 161 y 98, que se encuentran mucho más cercanos temporalmente y alcanzan su máximo en el momento de la instalación.\n",
    "#### Cabe destacar que, a menos que sean mutuamente excluyentes, la presencia de dos eventos distintos que presentan un máximo de ocurrencias muy cercano al evento de instalación favorece aun más la detección de las posibles instalaciones."
   ]
  }
 ],
 "metadata": {
  "kernelspec": {
   "display_name": "Python 3",
   "language": "python",
   "name": "python3"
  },
  "language_info": {
   "codemirror_mode": {
    "name": "ipython",
    "version": 3
   },
   "file_extension": ".py",
   "mimetype": "text/x-python",
   "name": "python",
   "nbconvert_exporter": "python",
   "pygments_lexer": "ipython3",
   "version": "3.5.2"
  }
 },
 "nbformat": 4,
 "nbformat_minor": 2
}
